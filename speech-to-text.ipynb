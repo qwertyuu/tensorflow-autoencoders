{
 "cells": [
  {
   "cell_type": "code",
   "execution_count": 4,
   "metadata": {},
   "outputs": [],
   "source": [
    "import torch\n",
    "import torchaudio\n",
    "import torchaudio.sox_effects as ta_sox\n",
    "\n",
    "from transformers import AutoModelForCTC, Wav2Vec2Processor\n",
    "\n",
    "device = torch.device(\"cuda:0\" if torch.cuda.is_available() else \"cpu\")\n",
    "\n",
    "model = AutoModelForCTC.from_pretrained(\"bhuang/asr-wav2vec2-french\").to(device)\n",
    "processor = Wav2Vec2Processor.from_pretrained(\"bhuang/asr-wav2vec2-french\")\n",
    "model_sample_rate = processor.feature_extractor.sampling_rate"
   ]
  },
  {
   "cell_type": "code",
   "execution_count": 11,
   "metadata": {},
   "outputs": [
    {
     "data": {
      "text/plain": [
       "\"bonjour chorgepet j'aimerais que tu m'écrives une preuve mathématique comme quoi la moyenne d'un ensemble de valeurs sera toujours plus grande ou égale à la plus petite valeur dans cet ensemble de valeurs\""
      ]
     },
     "execution_count": 11,
     "metadata": {},
     "output_type": "execute_result"
    }
   ],
   "source": [
    "audio_path = \"record-1.wav\"  # path to your audio file\n",
    "waveform, sample_rate = torchaudio.load(audio_path)\n",
    "\n",
    "effects = []\n",
    "if model_sample_rate != sample_rate:\n",
    "    # resample\n",
    "    effects.append([\"rate\", f\"{model_sample_rate}\"])\n",
    "if waveform.shape[0] > 1:\n",
    "    # convert to mono\n",
    "    effects.append([\"channels\", \"1\"])\n",
    "if len(effects) > 0:\n",
    "    converted_waveform, _ = ta_sox.apply_effects_tensor(waveform, sample_rate, effects)\n",
    "\n",
    "# 1d array\n",
    "converted_waveform = converted_waveform.squeeze(axis=0)\n",
    "\n",
    "# normalize\n",
    "input_dict = processor(converted_waveform, sampling_rate=model_sample_rate, return_tensors=\"pt\")\n",
    "\n",
    "with torch.inference_mode():\n",
    "    # forward\n",
    "    logits = model(input_dict.input_values.to(device)).logits\n",
    "\n",
    "# decode\n",
    "predicted_ids = torch.argmax(logits, dim=-1)\n",
    "predicted_sentence = processor.batch_decode(predicted_ids)[0]\n",
    "predicted_sentence"
   ]
  }
 ],
 "metadata": {
  "kernelspec": {
   "display_name": "venv",
   "language": "python",
   "name": "python3"
  },
  "language_info": {
   "codemirror_mode": {
    "name": "ipython",
    "version": 3
   },
   "file_extension": ".py",
   "mimetype": "text/x-python",
   "name": "python",
   "nbconvert_exporter": "python",
   "pygments_lexer": "ipython3",
   "version": "3.10.11"
  },
  "orig_nbformat": 4
 },
 "nbformat": 4,
 "nbformat_minor": 2
}
